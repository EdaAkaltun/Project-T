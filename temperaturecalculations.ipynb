{
 "cells": [
  {
   "cell_type": "code",
   "execution_count": null,
   "metadata": {},
   "outputs": [],
   "source": [
    "########################################## MATERIAL EXPANSION #########################################\n",
    "# Formula from: https://structx.com/Stress_Strain_012.html\n",
    "# ∆T = change in temperature, ᵒK or ᵒC\n",
    "averagetemp = 12 # C\n",
    "newmaxtemp = 40 # C\n",
    "DeltaT = newmaxtemp - averagetemp \n",
    "\n",
    "# α = coefficient of thermal expansion, ᵒK-1 or ᵒC-1\n",
    "material = \"concrete\"\n",
    "match material:\n",
    "# Source for coefficients: https://www.engineeringtoolbox.com/linear-expansion-coefficients-d_95.html\n",
    "    case \"concrete\":\n",
    "        thermalexpension = 9.8 * 10**-6 # concrete\n",
    "    case \"wood\":\n",
    "        thermalexpension = 30 * 10**-6 # wood perpendicular to grain\n",
    "    case \"steel\":\n",
    "        thermalexpension = 12.5 * 10**-6 # steel\n",
    "\n",
    "# L = length under consideration, in or mm\n",
    "L = 3600 # mm\n",
    "\n",
    "# ∆L = change in length, in or mm\n",
    "DeltaL = thermalexpension * DeltaT * L\n",
    "\n",
    "print(round(DeltaL, 3), \"mm\")"
   ]
  },
  {
   "cell_type": "code",
   "execution_count": null,
   "metadata": {},
   "outputs": [],
   "source": [
    "########################################## MATERIAL DEGREDATION #########################################"
   ]
  }
 ],
 "metadata": {
  "language_info": {
   "name": "python"
  },
  "orig_nbformat": 4
 },
 "nbformat": 4,
 "nbformat_minor": 2
}
