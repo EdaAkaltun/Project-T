{
 "cells": [
  {
   "cell_type": "code",
   "execution_count": 4,
   "metadata": {},
   "outputs": [
    {
     "name": "stdout",
     "output_type": "stream",
     "text": [
      "The coordinates are in the city of Delft\n"
     ]
    }
   ],
   "source": [
    "import requests\n",
    "import json\n",
    "\n",
    "# Define the coordinate to check\n",
    "lat = 52.006251\n",
    "lon = 4.356806\n",
    "\n",
    "# Build the OSM API query URL\n",
    "url = 'https://nominatim.openstreetmap.org/reverse?format=json&lat={}&lon={}&zoom=18&addressdetails=1'.format(lat, lon)\n",
    "\n",
    "# Send a GET request to the API and get the response\n",
    "response = requests.get(url)\n",
    "\n",
    "# Parse the response JSON data\n",
    "data = json.loads(response.content)\n",
    "\n",
    "# Check type\n",
    "if 'city' in data['address']:\n",
    "    print('The coordinates are in the city of', data['address']['city'])\n",
    "    enviroment = \"city\"\n",
    "elif 'village' in data['address']:\n",
    "    print('The coordinates are in the village of', data['address']['village'])\n",
    "    enviroment = \"village\"\n",
    "else:\n",
    "    print('The coordinates are in the plains.')\n",
    "    enviroment = \"plains\"\n"
   ]
  },
  {
   "cell_type": "code",
   "execution_count": null,
   "metadata": {},
   "outputs": [],
   "source": [
    "api_key = 'f1e40a460e683ace1c891efb88eac570'"
   ]
  },
  {
   "cell_type": "code",
   "execution_count": 10,
   "metadata": {},
   "outputs": [
    {
     "ename": "KeyError",
     "evalue": "'list'",
     "output_type": "error",
     "traceback": [
      "\u001b[1;31m---------------------------------------------------------------------------\u001b[0m",
      "\u001b[1;31mKeyError\u001b[0m                                  Traceback (most recent call last)",
      "Cell \u001b[1;32mIn[10], line 21\u001b[0m\n\u001b[0;32m     19\u001b[0m max_temp \u001b[39m=\u001b[39m \u001b[39m-\u001b[39m\u001b[39m273.15\u001b[39m\n\u001b[0;32m     20\u001b[0m max_temp_date \u001b[39m=\u001b[39m \u001b[39mNone\u001b[39;00m\n\u001b[1;32m---> 21\u001b[0m \u001b[39mfor\u001b[39;00m day \u001b[39min\u001b[39;00m data[\u001b[39m'\u001b[39;49m\u001b[39mlist\u001b[39;49m\u001b[39m'\u001b[39;49m]:\n\u001b[0;32m     22\u001b[0m     temp \u001b[39m=\u001b[39m day[\u001b[39m'\u001b[39m\u001b[39mmain\u001b[39m\u001b[39m'\u001b[39m][\u001b[39m'\u001b[39m\u001b[39mtemp\u001b[39m\u001b[39m'\u001b[39m] \u001b[39m-\u001b[39m \u001b[39m273.15\u001b[39m  \u001b[39m# convert from Kelvin to Celsius\u001b[39;00m\n\u001b[0;32m     23\u001b[0m     \u001b[39mif\u001b[39;00m temp \u001b[39m>\u001b[39m max_temp:\n",
      "\u001b[1;31mKeyError\u001b[0m: 'list'"
     ]
    }
   ],
   "source": [
    "import requests\n",
    "import datetime\n",
    "\n",
    "api_key = 'f1e40a460e683ace1c891efb88eac570'\n",
    "lat = 52.0116\n",
    "lon = 4.3571\n",
    "\n",
    "# Calculate the start and end times for the API call\n",
    "end_time = int(datetime.datetime.now().timestamp())\n",
    "start_time = end_time - (365 * 5 * 24 * 60 * 60)\n",
    "\n",
    "# Create the URL for the API call to get historical weather data for the last 5 years\n",
    "url = f\"https://history.openweathermap.org/data/2.5/history/city?lat={lat}&lon={lon}&type=hour&start={start_time}&end={end_time}&appid={api_key}\"\n",
    "\n",
    "# Make the API call and get the response data\n",
    "response = requests.get(url)\n",
    "data = response.json()\n",
    "\n",
    "max_temp = -273.15\n",
    "max_temp_date = None\n",
    "for day in data['list']:\n",
    "    temp = day['main']['temp'] - 273.15  # convert from Kelvin to Celsius\n",
    "    if temp > max_temp:\n",
    "        max_temp = temp\n",
    "        max_temp_date = datetime.datetime.fromtimestamp(day['dt']).strftime('%Y-%m-%d %H:%M:%S')\n",
    "\n",
    "print('The highest temperature in the last 5 years in Delft was {} degrees Celsius, recorded on {}.'.format(max_temp, max_temp_date))\n",
    "\n"
   ]
  },
  {
   "cell_type": "code",
   "execution_count": null,
   "metadata": {},
   "outputs": [],
   "source": []
  },
  {
   "cell_type": "code",
   "execution_count": null,
   "metadata": {},
   "outputs": [],
   "source": []
  }
 ],
 "metadata": {
  "kernelspec": {
   "display_name": "py10",
   "language": "python",
   "name": "python3"
  },
  "language_info": {
   "codemirror_mode": {
    "name": "ipython",
    "version": 3
   },
   "file_extension": ".py",
   "mimetype": "text/x-python",
   "name": "python",
   "nbconvert_exporter": "python",
   "pygments_lexer": "ipython3",
   "version": "3.10.9"
  },
  "orig_nbformat": 4
 },
 "nbformat": 4,
 "nbformat_minor": 2
}
