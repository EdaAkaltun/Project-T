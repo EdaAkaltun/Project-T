{
 "cells": [
  {
   "cell_type": "code",
   "execution_count": null,
   "metadata": {},
   "outputs": [],
   "source": [
    "api_key = 'f1e40a460e683ace1c891efb88eac570'"
   ]
  },
  {
   "cell_type": "code",
   "execution_count": 13,
   "metadata": {},
   "outputs": [
    {
     "name": "stdout",
     "output_type": "stream",
     "text": [
      "b'{\"cod\":401, \"message\": \"Invalid API key. Please see http://openweathermap.org/faq#error401 for more info.\"}'\n"
     ]
    }
   ],
   "source": [
    "import requests\n",
    "\n",
    "# Set up the parameters for the API request\n",
    "lat = 40.7128\n",
    "lon = -74.0060\n",
    "start = 1616284800  # March 21, 2021, 00:00:00 UTC\n",
    "end = 1616371200  # March 22, 2021, 00:00:00 UTC\n",
    "api_key = 'f1e40a460e683ace1c891efb88eac570'\n",
    "\n",
    "# Set up the URL for the API request\n",
    "url = f\"https://history.openweathermap.org/data/2.5/history/city?lat={lat}&lon={lon}&type=hour&start={start}&end={end}&appid={api_key}\"\n",
    "\n",
    "# Send the API request\n",
    "response = requests.get(url)\n",
    "\n",
    "# Print the response content\n",
    "print(response.content)\n"
   ]
  },
  {
   "cell_type": "code",
   "execution_count": null,
   "metadata": {},
   "outputs": [],
   "source": [
    "open-meteo.com "
   ]
  },
  {
   "cell_type": "code",
   "execution_count": 2,
   "metadata": {},
   "outputs": [
    {
     "name": "stdout",
     "output_type": "stream",
     "text": [
      "https://apps.geodan.nl/public/data/org/gws/YWFMLMWERURF/kea_public/wms?v1_0&SERVICE=WMS&VERSION=1.3.0&REQUEST=GetFeatureInfo&FORMAT=image/png&TRANSPARENT=true&QUERY_LAYERS=hitteeiland&LAYERS=hitteeiland&INFO_FORMAT=application/json&FEATURE_COUNT=8&I=50&J=50&CRS=EPSG:4326&STYLES=&WIDTH=101&HEIGHT=101&BBOX=51.873622,4.119859,51.873722,4.119959&x=4.119859&y=51.873622\n",
      "{'type': 'FeatureCollection', 'features': [{'type': 'Feature', 'id': '', 'geometry': None, 'properties': {'GRAY_INDEX': 0}}], 'totalFeatures': 'unknown', 'numberReturned': 1, 'timeStamp': '2023-03-30T11:11:19.039Z', 'crs': None}\n",
      "{'GRAY_INDEX': 0}\n"
     ]
    }
   ],
   "source": [
    "import requests\n",
    "\n",
    "# Define the bounding box in EPSG:4326 (WGS84) coordinates as [min_lon, min_lat, max_lon, max_lat]\n",
    "# x = 5.468132\n",
    "# y = 52.547327\n",
    "x = 4.119859\n",
    "y = 51.873622\n",
    "x1 = x + 0.0001\n",
    "y1 = y + 0.0001\n",
    "bbox = [y, x, y1, x1]\n",
    "\n",
    "# Convert the bbox list to a string\n",
    "bbox_str = ','.join(str(coord) for coord in bbox)\n",
    "\n",
    "# Define the URL parameters\n",
    "params = {\n",
    "    \"SERVICE\": \"WMS\",\n",
    "    \"VERSION\": \"1.3.0\",\n",
    "    \"REQUEST\": \"GetFeatureInfo\",\n",
    "    \"FORMAT\": \"image/png\",\n",
    "    \"TRANSPARENT\": \"true\",\n",
    "    \"QUERY_LAYERS\": \"hitteeiland\",\n",
    "    \"LAYERS\": \"hitteeiland\",\n",
    "    \"INFO_FORMAT\": \"application/json\",\n",
    "    \"FEATURE_COUNT\": \"8\",\n",
    "    \"I\": \"50\",\n",
    "    \"J\": \"50\",\n",
    "    \"CRS\": \"EPSG:4326\",\n",
    "    \"STYLES\": \"\",\n",
    "    \"WIDTH\": \"101\",\n",
    "    \"HEIGHT\": \"101\",\n",
    "    \"BBOX\": bbox_str,\n",
    "    \"x\": x,\n",
    "    \"y\": y,\n",
    "}\n",
    "\n",
    "# Construct the URL using string formatting\n",
    "url = \"https://apps.geodan.nl/public/data/org/gws/YWFMLMWERURF/kea_public/wms?v1_0&\" + \"&\".join(f\"{k}={v}\" for k, v in params.items())\n",
    "print(url)\n",
    "# Send the request and parse the JSON response\n",
    "response = requests.get(url)\n",
    "data = response.json()\n",
    "print(data)\n",
    "\n",
    "# Extract the \"properties\" field from the response\n",
    "properties = data[\"features\"][0][\"properties\"]\n",
    "\n",
    "# Print the \"properties\" field\n",
    "print(properties)\n",
    "number = properties['GRAY_INDEX']\n"
   ]
  },
  {
   "cell_type": "code",
   "execution_count": null,
   "metadata": {},
   "outputs": [],
   "source": []
  }
 ],
 "metadata": {
  "kernelspec": {
   "display_name": "py10",
   "language": "python",
   "name": "python3"
  },
  "language_info": {
   "codemirror_mode": {
    "name": "ipython",
    "version": 3
   },
   "file_extension": ".py",
   "mimetype": "text/x-python",
   "name": "python",
   "nbconvert_exporter": "python",
   "pygments_lexer": "ipython3",
   "version": "3.10.9"
  },
  "orig_nbformat": 4
 },
 "nbformat": 4,
 "nbformat_minor": 2
}
