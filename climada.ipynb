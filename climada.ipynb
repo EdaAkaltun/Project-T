{
 "cells": [
  {
   "cell_type": "code",
   "execution_count": null,
   "metadata": {},
   "outputs": [],
   "source": [
    "import climada.entity as ce\n",
    "import climada.util.coordinates as coord\n",
    "import climada.hazard as hz\n",
    "import climada.damage as dmg\n",
    "\n",
    "# Define the hazard and location\n",
    "hazard = hz.Flood()\n",
    "latitude = 52.3702\n",
    "longitude = 4.8952\n",
    "location = coord.Coord(latitude, longitude)\n",
    "\n",
    "# Define the building parameters\n",
    "building = ce.Building()\n",
    "building.country_id = \"NLD\"\n",
    "building.building_type = \"W1S\" # a wooden single-family house\n",
    "building.height_ag = 2.5\n",
    "building.floor_area = 100\n",
    "building.year_built = 1980 # year of construction of the building\n",
    "\n",
    "# Estimate the SDR for the building given the hazard intensity at the location\n",
    "hazard_intensities = hazard.get_intensity(location)\n",
    "sdr = dmg.structural_dmg_ratio(building, hazard_intensities)\n",
    "\n",
    "# Print the estimated SDR\n",
    "print(\"The estimated SDR for the wooden house is:\", sdr)\n"
   ]
  },
  {
   "cell_type": "code",
   "execution_count": null,
   "metadata": {},
   "outputs": [],
   "source": []
  }
 ],
 "metadata": {
  "kernelspec": {
   "display_name": "projectT",
   "language": "python",
   "name": "python3"
  },
  "language_info": {
   "name": "python",
   "version": "3.11.0"
  },
  "orig_nbformat": 4
 },
 "nbformat": 4,
 "nbformat_minor": 2
}
