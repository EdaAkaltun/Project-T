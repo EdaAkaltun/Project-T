{
 "cells": [
  {
   "cell_type": "code",
   "execution_count": 7,
   "metadata": {},
   "outputs": [
    {
     "name": "stdout",
     "output_type": "stream",
     "text": [
      "Collecting ifcopenshell\n"
     ]
    },
    {
     "name": "stderr",
     "output_type": "stream",
     "text": [
      "  Cache entry deserialization failed, entry ignored\n",
      "  Could not find a version that satisfies the requirement ifcopenshell (from versions: )\n",
      "No matching distribution found for ifcopenshell\n",
      "You are using pip version 18.0, however version 21.3.1 is available.\n",
      "You should consider upgrading via the 'python -m pip install --upgrade pip' command.\n"
     ]
    }
   ],
   "source": [
    "# first time setup\n",
    "\n",
    "# install python, pip & how to run jupyter notebook\n",
    "\n",
    "# install packages commands\n",
    "import sys\n",
    "!{sys.executable} -m pip install ifcopenshell"
   ]
  },
  {
   "cell_type": "code",
   "execution_count": 8,
   "metadata": {},
   "outputs": [],
   "source": [
    "# importing all necessary packages\n",
    "# !pip install ifcopenshell --user\n",
    "# import ifcopenshell\n",
    "\n",
    "from tkinter import *\n",
    "from tkinter import ttk\n",
    "root = Tk()\n",
    "frm = ttk.Frame(root, padding=10)\n",
    "frm.grid()\n",
    "ttk.Label(frm, text=\"Hello World!\").grid(column=0, row=0)\n",
    "ttk.Button(frm, text=\"Quit\", command=root.destroy).grid(column=1, row=0)\n",
    "root.mainloop()"
   ]
  },
  {
   "cell_type": "code",
   "execution_count": null,
   "metadata": {},
   "outputs": [],
   "source": [
    "# intial functionality\n",
    "# Import tkinter\n",
    "# Make input to import ifc\n",
    "# Make input to give location\n",
    "# Import ifcopenshell\n",
    "# View ifc\n",
    "# Convert the Jupyter notebook to HTML using the nbconvert command-line tool\n",
    "# import TIFF\n",
    "# import geodataframe"
   ]
  },
  {
   "cell_type": "code",
   "execution_count": 1,
   "metadata": {},
   "outputs": [
    {
     "name": "stdout",
     "output_type": "stream",
     "text": [
      "Collecting import_ipynb\n",
      "  Using cached https://files.pythonhosted.org/packages/80/5d/a94923929ac5687d4a3b83440d1f95aaed7eea4a2b05c31d76d8f5564a89/import_ipynb-0.1.4-py3-none-any.whl\n",
      "Requirement already satisfied: nbformat in c:\\programs\\anaconda3\\lib\\site-packages (from import_ipynb) (4.4.0)\n",
      "Requirement already satisfied: IPython in c:\\programs\\anaconda3\\lib\\site-packages (from import_ipynb) (6.5.0)\n",
      "Requirement already satisfied: ipython_genutils in c:\\programs\\anaconda3\\lib\\site-packages (from nbformat->import_ipynb) (0.2.0)\n",
      "Requirement already satisfied: traitlets>=4.1 in c:\\programs\\anaconda3\\lib\\site-packages (from nbformat->import_ipynb) (4.3.2)\n",
      "Requirement already satisfied: jsonschema!=2.5.0,>=2.4 in c:\\programs\\anaconda3\\lib\\site-packages (from nbformat->import_ipynb) (2.6.0)\n",
      "Requirement already satisfied: jupyter_core in c:\\programs\\anaconda3\\lib\\site-packages (from nbformat->import_ipynb) (4.4.0)\n",
      "Requirement already satisfied: pickleshare in c:\\programs\\anaconda3\\lib\\site-packages (from IPython->import_ipynb) (0.7.4)\n",
      "Requirement already satisfied: decorator in c:\\programs\\anaconda3\\lib\\site-packages (from IPython->import_ipynb) (4.3.0)\n",
      "Requirement already satisfied: colorama; sys_platform == \"win32\" in c:\\programs\\anaconda3\\lib\\site-packages (from IPython->import_ipynb) (0.3.9)\n",
      "Requirement already satisfied: setuptools>=18.5 in c:\\programs\\anaconda3\\lib\\site-packages (from IPython->import_ipynb) (39.2.0)\n",
      "Requirement already satisfied: backcall in c:\\programs\\anaconda3\\lib\\site-packages (from IPython->import_ipynb) (0.1.0)\n",
      "Requirement already satisfied: jedi>=0.10 in c:\\programs\\anaconda3\\lib\\site-packages (from IPython->import_ipynb) (0.12.1)\n",
      "Requirement already satisfied: simplegeneric>0.8 in c:\\programs\\anaconda3\\lib\\site-packages (from IPython->import_ipynb) (0.8.1)\n",
      "Requirement already satisfied: pygments in c:\\programs\\anaconda3\\lib\\site-packages (from IPython->import_ipynb) (2.2.0)\n",
      "Requirement already satisfied: prompt-toolkit<2.0.0,>=1.0.15 in c:\\programs\\anaconda3\\lib\\site-packages (from IPython->import_ipynb) (1.0.15)\n",
      "Requirement already satisfied: six in c:\\programs\\anaconda3\\lib\\site-packages (from traitlets>=4.1->nbformat->import_ipynb) (1.11.0)\n",
      "Requirement already satisfied: parso>=0.3.0 in c:\\programs\\anaconda3\\lib\\site-packages (from jedi>=0.10->IPython->import_ipynb) (0.3.1)\n",
      "Requirement already satisfied: wcwidth in c:\\programs\\anaconda3\\lib\\site-packages (from prompt-toolkit<2.0.0,>=1.0.15->IPython->import_ipynb) (0.1.7)\n",
      "Installing collected packages: import-ipynb\n",
      "Successfully installed import-ipynb-0.1.4\n"
     ]
    },
    {
     "name": "stderr",
     "output_type": "stream",
     "text": [
      "  Cache entry deserialization failed, entry ignored\n",
      "Cache entry deserialization failed, entry ignored\n",
      "You are using pip version 18.0, however version 21.3.1 is available.\n",
      "You should consider upgrading via the 'python -m pip install --upgrade pip' command.\n"
     ]
    }
   ],
   "source": [
    "!pip install import_ipynb"
   ]
  },
  {
   "cell_type": "code",
   "execution_count": 2,
   "metadata": {},
   "outputs": [
    {
     "name": "stderr",
     "output_type": "stream",
     "text": [
      "Python was not found; run without arguments to install from the Microsoft Store, or disable this shortcut from Settings > Manage App Execution Aliases.\n"
     ]
    }
   ],
   "source": [
    "!python -m pip install --upgrade pip"
   ]
  },
  {
   "cell_type": "code",
   "execution_count": 4,
   "metadata": {},
   "outputs": [
    {
     "name": "stdout",
     "output_type": "stream",
     "text": [
      "Requirement already satisfied: pip in c:\\programs\\anaconda3\\lib\\site-packages (21.3.1)\n"
     ]
    }
   ],
   "source": [
    "!pip install --upgrade pip --user"
   ]
  },
  {
   "cell_type": "code",
   "execution_count": 5,
   "metadata": {},
   "outputs": [],
   "source": [
    "import import_ipynb\n",
    "import tiff_files"
   ]
  },
  {
   "cell_type": "code",
   "execution_count": null,
   "metadata": {},
   "outputs": [],
   "source": []
  }
 ],
 "metadata": {
  "kernelspec": {
   "display_name": "Python 3 (ipykernel)",
   "language": "python",
   "name": "python3"
  },
  "language_info": {
   "codemirror_mode": {
    "name": "ipython",
    "version": 3
   },
   "file_extension": ".py",
   "mimetype": "text/x-python",
   "name": "python",
   "nbconvert_exporter": "python",
   "pygments_lexer": "ipython3",
   "version": "3.9.13"
  },
  "vscode": {
   "interpreter": {
    "hash": "19607442a137cf0e641fbf8beb3b7244faf3bc26451dca35f2e43ef2d5c23a4a"
   }
  }
 },
 "nbformat": 4,
 "nbformat_minor": 2
}
