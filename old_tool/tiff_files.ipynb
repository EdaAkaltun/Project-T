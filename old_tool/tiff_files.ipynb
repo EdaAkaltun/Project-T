{
 "cells": [
  {
   "cell_type": "code",
   "execution_count": null,
   "metadata": {},
   "outputs": [],
   "source": []
  }
 ],
 "metadata": {
  "kernelspec": {
   "display_name": "Python 3",
   "language": "python",
   "name": "python3"
  },
  "language_info": {
   "name": "python",
   "version": "3.10.9 (tags/v3.10.9:1dd9be6, Dec  6 2022, 20:01:21) [MSC v.1934 64 bit (AMD64)]"
  },
  "orig_nbformat": 4,
  "vscode": {
   "interpreter": {
    "hash": "19607442a137cf0e641fbf8beb3b7244faf3bc26451dca35f2e43ef2d5c23a4a"
   }
  }
 },
 "nbformat": 4,
 "nbformat_minor": 2
}
