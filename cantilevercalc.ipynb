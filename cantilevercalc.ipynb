{
 "cells": [
  {
   "cell_type": "code",
   "execution_count": null,
   "metadata": {},
   "outputs": [],
   "source": [
    "lenght = 3000 # mm\n",
    "width = 40 # mm\n",
    "height = 120 # mm\n",
    "\n",
    "YoungsM = 200000 # N/mm2\n",
    "\n",
    "designheight = 30000 # mm\n",
    "\n",
    "#moment of inertia\n",
    "momentofinertia = 1/12 * width * height ^ 3\n",
    "neutralaxis = height / 2\n",
    "\n",
    "load = 1000 # N\n",
    "af = 1/3 * designheight # mm"
   ]
  }
 ],
 "metadata": {
  "language_info": {
   "name": "python"
  },
  "orig_nbformat": 4
 },
 "nbformat": 4,
 "nbformat_minor": 2
}
