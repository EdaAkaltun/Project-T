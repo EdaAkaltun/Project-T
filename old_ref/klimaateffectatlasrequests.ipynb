{
 "cells": [
  {
   "cell_type": "code",
   "execution_count": 1,
   "metadata": {},
   "outputs": [
    {
     "name": "stdout",
     "output_type": "stream",
     "text": [
      "b'{\"type\":\"FeatureCollection\",\"features\":[{\"type\":\"Feature\",\"id\":\"\",\"geometry\":null,\"properties\":{\"GRAY_INDEX\":1.79E308}}],\"totalFeatures\":\"unknown\",\"numberReturned\":1,\"timeStamp\":\"2023-03-29T11:26:59.891Z\",\"crs\":null}'\n"
     ]
    }
   ],
   "source": [
    "import requests\n",
    "\n",
    "# Define variables\n",
    "service = \"WMS\"\n",
    "version = \"1.3.0\"\n",
    "request = \"GetFeatureInfo\"\n",
    "format = \"image/png\"\n",
    "transparent = \"true\"\n",
    "query_layers = \"bodemdaling_2020_2050hoog\"\n",
    "layers = \"bodemdaling_2020_2050hoog\"\n",
    "info_format = \"application/json\"\n",
    "feature_count = \"8\"\n",
    "i = \"50\"\n",
    "j = \"50\"\n",
    "crs = \"EPSG:28992\"\n",
    "styles = \"\"\n",
    "width = \"101\"\n",
    "height = \"101\"\n",
    "bbox = \"162798.4279118476,475504.2679470302,162881.63415054162,475587.4741857242\"\n",
    "x = \"162000\"\n",
    "y = \"475000\"\n",
    "\n",
    "# Construct URL with variables\n",
    "url = f\"https://apps.geodan.nl/public/data/org/gws/YWFMLMWERURF/kea_public/wms?v1_0?SERVICE={service}&VERSION={version}&REQUEST={request}&FORMAT={format}&TRANSPARENT={transparent}&QUERY_LAYERS={query_layers}&LAYERS={layers}&INFO_FORMAT={info_format}&FEATURE_COUNT={feature_count}&I={i}&J={j}&CRS={crs}&STYLES={styles}&WIDTH={width}&HEIGHT={height}&BBOX={bbox}&x={x}&y={y}\"\n",
    "\n",
    "# Send request and print response\n",
    "response = requests.get(url)\n",
    "print(response.content)\n"
   ]
  },
  {
   "cell_type": "code",
   "execution_count": 6,
   "metadata": {},
   "outputs": [
    {
     "name": "stdout",
     "output_type": "stream",
     "text": [
      "(5.501448299632129, 52.26752557975439, 162881.63415054162, 475587.4741857242)\n"
     ]
    }
   ],
   "source": [
    "import pyproj\n",
    "\n",
    "# Define the coordinate systems\n",
    "src_crs = \"EPSG:28992\"\n",
    "dst_crs = \"EPSG:4326\"  # WGS84\n",
    "\n",
    "# Define the bounding box coordinates\n",
    "bbox = \"162798.4279118476,475504.2679470302,162881.63415054162,475587.4741857242\"\n",
    "\n",
    "# Split the bounding box coordinates into a list\n",
    "bbox_list = bbox.split(\",\")\n",
    "\n",
    "# Convert the bounding box coordinates from src_crs to dst_crs\n",
    "transformer = pyproj.Transformer.from_crs(src_crs, dst_crs, always_xy=True)\n",
    "bbox_lonlat = transformer.transform(bbox_list[0], bbox_list[1], bbox_list[2], bbox_list[3])\n",
    "\n",
    "# Print the bounding box coordinates in lon-lat format\n",
    "print(bbox_lonlat)\n"
   ]
  },
  {
   "cell_type": "code",
   "execution_count": 7,
   "metadata": {},
   "outputs": [
    {
     "name": "stdout",
     "output_type": "stream",
     "text": [
      "(121490.59182524993, 487040.4615886916, 4.89525, 52.37031)\n"
     ]
    }
   ],
   "source": [
    "import pyproj\n",
    "\n",
    "# Define the coordinate systems\n",
    "src_crs = \"EPSG:4326\"  # WGS84\n",
    "dst_crs = \"EPSG:28992\"\n",
    "\n",
    "# Define the bounding box coordinates in lon-lat format\n",
    "bbox = \"4.89517,52.37022,4.89525,52.37031\"\n",
    "\n",
    "# Split the bounding box coordinates into a list\n",
    "bbox_list = bbox.split(\",\")\n",
    "\n",
    "# Convert the bounding box coordinates from src_crs to dst_crs\n",
    "transformer = pyproj.Transformer.from_crs(src_crs, dst_crs, always_xy=True)\n",
    "bbox_xy = transformer.transform(bbox_list[0], bbox_list[1], bbox_list[2], bbox_list[3])\n",
    "\n",
    "# Print the bounding box coordinates in the target coordinate system\n",
    "print(bbox_xy)\n"
   ]
  },
  {
   "cell_type": "code",
   "execution_count": 8,
   "metadata": {},
   "outputs": [
    {
     "name": "stdout",
     "output_type": "stream",
     "text": [
      "(121490.59182524993, 487040.4615886916, 4.89525, 52.37031)\n"
     ]
    }
   ],
   "source": [
    "import pyproj\n",
    "\n",
    "# Define the coordinate systems\n",
    "src_crs = \"EPSG:4326\"  # WGS84\n",
    "dst_crs = \"EPSG:28992\"\n",
    "\n",
    "# Define the bounding box coordinates in lon-lat format\n",
    "bbox = \"4.89517,52.37022,4.89525,52.37031\"\n",
    "\n",
    "# Split the bounding box coordinates into a list\n",
    "bbox_list = bbox.split(\",\")\n",
    "\n",
    "# Convert the bounding box coordinates from src_crs to dst_crs\n",
    "transformer = pyproj.Transformer.from_crs(src_crs, dst_crs, always_xy=True)\n",
    "bbox_xy = transformer.transform(bbox_list[0], bbox_list[1], bbox_list[2], bbox_list[3])\n",
    "\n",
    "# Print the bounding box coordinates in the target coordinate system\n",
    "print(bbox_xy)\n"
   ]
  },
  {
   "cell_type": "code",
   "execution_count": 10,
   "metadata": {},
   "outputs": [
    {
     "name": "stdout",
     "output_type": "stream",
     "text": [
      "(4.894440845545088, 52.36976758615147, 4.895899171797351, 52.37067241761468)\n"
     ]
    }
   ],
   "source": [
    "import pyproj\n",
    "\n",
    "# Define the center point coordinates in lon-lat format\n",
    "center_lonlat = (4.89517, 52.37022)\n",
    "\n",
    "# Define the width and height of the bounding box in meters\n",
    "bbox_width = 100\n",
    "bbox_height = 100\n",
    "\n",
    "# Define the source and target coordinate systems\n",
    "src_crs = \"EPSG:4326\"  # WGS84\n",
    "dst_crs = \"EPSG:28992\"\n",
    "\n",
    "# Convert the center point coordinates from src_crs to dst_crs\n",
    "transformer = pyproj.Transformer.from_crs(src_crs, dst_crs, always_xy=True)\n",
    "center_xy = transformer.transform(center_lonlat[0], center_lonlat[1])\n",
    "\n",
    "# Define the bounding box coordinates in the target coordinate system\n",
    "bbox_min_x = center_xy[0] - bbox_width / 2\n",
    "bbox_max_x = center_xy[0] + bbox_width / 2\n",
    "bbox_min_y = center_xy[1] - bbox_height / 2\n",
    "bbox_max_y = center_xy[1] + bbox_height / 2\n",
    "\n",
    "# Convert the bounding box coordinates from dst_crs to src_crs\n",
    "transformer = pyproj.Transformer.from_crs(dst_crs, src_crs, always_xy=True)\n",
    "bbox_min_lonlat = transformer.transform(bbox_min_x, bbox_min_y)\n",
    "bbox_max_lonlat = transformer.transform(bbox_max_x, bbox_max_y)\n",
    "\n",
    "# Print the bounding box coordinates in lon-lat format\n",
    "bbox_lonlat = bbox_min_lonlat + bbox_max_lonlat\n",
    "print(bbox_lonlat)\n",
    "\n"
   ]
  },
  {
   "cell_type": "code",
   "execution_count": 14,
   "metadata": {},
   "outputs": [
    {
     "name": "stdout",
     "output_type": "stream",
     "text": [
      "b'{\"type\":\"FeatureCollection\",\"features\":[],\"totalFeatures\":\"unknown\",\"numberReturned\":0,\"timeStamp\":\"2023-03-29T12:12:01.039Z\",\"crs\":null}'\n",
      "https://apps.geodan.nl/public/data/org/gws/YWFMLMWERURF/kea_public/wms?v1_0?SERVICE=WMS&VERSION=1.3.0&REQUEST=GetFeatureInfo&FORMAT=image/png&TRANSPARENT=true&QUERY_LAYERS=bodemdaling_2020_2050hoog&LAYERS=bodemdaling_2020_2050hoog&INFO_FORMAT=application/json&FEATURE_COUNT=8&I=50&J=50&CRS=EPSG:4326&STYLES=&WIDTH=101&HEIGHT=101&BBOX=4.894440845545088, 52.36976758615147, 4.895899171797351, 52.37067241761468&x=162000&y=475000\n"
     ]
    }
   ],
   "source": [
    "import requests\n",
    "\n",
    "# Define variables\n",
    "service = \"WMS\"\n",
    "version = \"1.3.0\"\n",
    "request = \"GetFeatureInfo\"\n",
    "format = \"image/png\"\n",
    "transparent = \"true\"\n",
    "query_layers = \"bodemdaling_2020_2050hoog\"\n",
    "layers = \"bodemdaling_2020_2050hoog\"\n",
    "info_format = \"application/json\"\n",
    "feature_count = \"8\"\n",
    "i = \"50\"\n",
    "j = \"50\"\n",
    "crs = \"EPSG:28992\"\n",
    "styles = \"\"\n",
    "width = \"101\"\n",
    "height = \"101\"\n",
    "bbox = \"162798.4279118476,475504.2679470302,162881.63415054162,475587.4741857242\"\n",
    "x = \"162000\"\n",
    "y = \"475000\"\n",
    "\n",
    "# Construct URL with variables\n",
    "url = f\"https://apps.geodan.nl/public/data/org/gws/YWFMLMWERURF/kea_public/wms?v1_0?SERVICE={service}&VERSION={version}&REQUEST={request}&FORMAT={format}&TRANSPARENT={transparent}&QUERY_LAYERS={query_layers}&LAYERS={layers}&INFO_FORMAT={info_format}&FEATURE_COUNT={feature_count}&I={i}&J={j}&CRS={crs}&STYLES={styles}&WIDTH={width}&HEIGHT={height}&BBOX={bbox}&x={x}&y={y}\"\n",
    "\n",
    "# Send request and print response\n",
    "response = requests.get(url)\n",
    "print(response.content)\n",
    "\n",
    "print(url)"
   ]
  },
  {
   "cell_type": "code",
   "execution_count": 15,
   "metadata": {},
   "outputs": [
    {
     "ename": "CRSError",
     "evalue": "Invalid projection: EPSG:28892: (Internal Proj Error: proj_create: crs not found)",
     "output_type": "error",
     "traceback": [
      "\u001b[1;31m---------------------------------------------------------------------------\u001b[0m",
      "\u001b[1;31mCRSError\u001b[0m                                  Traceback (most recent call last)",
      "Cell \u001b[1;32mIn[15], line 5\u001b[0m\n\u001b[0;32m      3\u001b[0m \u001b[39m# Define the source and destination coordinate reference systems\u001b[39;00m\n\u001b[0;32m      4\u001b[0m src_crs \u001b[39m=\u001b[39m pyproj\u001b[39m.\u001b[39mCRS(\u001b[39m'\u001b[39m\u001b[39mEPSG:4326\u001b[39m\u001b[39m'\u001b[39m)\n\u001b[1;32m----> 5\u001b[0m dst_crs \u001b[39m=\u001b[39m pyproj\u001b[39m.\u001b[39;49mCRS(\u001b[39m'\u001b[39;49m\u001b[39mEPSG:28892\u001b[39;49m\u001b[39m'\u001b[39;49m)\n\u001b[0;32m      7\u001b[0m \u001b[39m# Define the transformer object\u001b[39;00m\n\u001b[0;32m      8\u001b[0m transformer \u001b[39m=\u001b[39m pyproj\u001b[39m.\u001b[39mTransformer\u001b[39m.\u001b[39mfrom_crs(src_crs, dst_crs)\n",
      "File \u001b[1;32mc:\\Users\\Eda\\.conda\\envs\\projectT\\Lib\\site-packages\\pyproj\\crs\\crs.py:348\u001b[0m, in \u001b[0;36mCRS.__init__\u001b[1;34m(self, projparams, **kwargs)\u001b[0m\n\u001b[0;32m    346\u001b[0m     \u001b[39mself\u001b[39m\u001b[39m.\u001b[39m_local\u001b[39m.\u001b[39mcrs \u001b[39m=\u001b[39m projparams\n\u001b[0;32m    347\u001b[0m \u001b[39melse\u001b[39;00m:\n\u001b[1;32m--> 348\u001b[0m     \u001b[39mself\u001b[39m\u001b[39m.\u001b[39m_local\u001b[39m.\u001b[39mcrs \u001b[39m=\u001b[39m _CRS(\u001b[39mself\u001b[39;49m\u001b[39m.\u001b[39;49msrs)\n",
      "File \u001b[1;32mpyproj\\_crs.pyx:2366\u001b[0m, in \u001b[0;36mpyproj._crs._CRS.__init__\u001b[1;34m()\u001b[0m\n",
      "\u001b[1;31mCRSError\u001b[0m: Invalid projection: EPSG:28892: (Internal Proj Error: proj_create: crs not found)"
     ]
    }
   ],
   "source": [
    "import pyproj\n",
    "\n",
    "# Define the source and destination coordinate reference systems\n",
    "src_crs = pyproj.CRS('EPSG:4326')\n",
    "dst_crs = pyproj.CRS('EPSG:28892')\n",
    "\n",
    "# Define the transformer object\n",
    "transformer = pyproj.Transformer.from_crs(src_crs, dst_crs)\n",
    "\n",
    "# Define the coordinates you want to convert\n",
    "lon, lat = 4.900000, 52.366667  # For example, Amsterdam\n",
    "\n",
    "# Convert the coordinates\n",
    "x, y = transformer.transform(lon, lat)\n",
    "\n",
    "# Print the result\n",
    "print(f\"EPSG 4326 coordinates ({lon}, {lat}) is EPSG 28892 coordinates ({x:.2f}, {y:.2f})\")\n"
   ]
  },
  {
   "cell_type": "code",
   "execution_count": 42,
   "metadata": {},
   "outputs": [
    {
     "name": "stdout",
     "output_type": "stream",
     "text": [
      "\"6392609.075571139, -3771678.1443012077, 6392616.281745843, -3771658.2563632214\"\n",
      "https://apps.geodan.nl/public/data/org/gws/YWFMLMWERURF/kea_public/wms?v1_0?SERVICE=WMS&VERSION=1.3.0&REQUEST=GetFeatureInfo&FORMAT=image/png&TRANSPARENT=true&QUERY_LAYERS=bodemdaling_2020_2050hoog&layers=bodemdaling_2020_2050hoog&INFO_FORMAT=application/json&FEATURE_COUNT=8&I=50&J=50&CRS=EPSG:28992&STYLES=&WIDTH=101&HEIGHT=101&BBOX=6392609.075571139, 3771678.1443012077, 6392616.281745843, 3771658.2563632214&x=4.344998&y=51.983957\n"
     ]
    },
    {
     "ename": "JSONDecodeError",
     "evalue": "Expecting value: line 1 column 1 (char 0)",
     "output_type": "error",
     "traceback": [
      "\u001b[1;31m---------------------------------------------------------------------------\u001b[0m",
      "\u001b[1;31mJSONDecodeError\u001b[0m                           Traceback (most recent call last)",
      "File \u001b[1;32mc:\\Users\\Eda\\.conda\\envs\\projectT\\Lib\\site-packages\\requests\\models.py:971\u001b[0m, in \u001b[0;36mResponse.json\u001b[1;34m(self, **kwargs)\u001b[0m\n\u001b[0;32m    970\u001b[0m \u001b[39mtry\u001b[39;00m:\n\u001b[1;32m--> 971\u001b[0m     \u001b[39mreturn\u001b[39;00m complexjson\u001b[39m.\u001b[39;49mloads(\u001b[39mself\u001b[39;49m\u001b[39m.\u001b[39;49mtext, \u001b[39m*\u001b[39;49m\u001b[39m*\u001b[39;49mkwargs)\n\u001b[0;32m    972\u001b[0m \u001b[39mexcept\u001b[39;00m JSONDecodeError \u001b[39mas\u001b[39;00m e:\n\u001b[0;32m    973\u001b[0m     \u001b[39m# Catch JSON-related errors and raise as requests.JSONDecodeError\u001b[39;00m\n\u001b[0;32m    974\u001b[0m     \u001b[39m# This aliases json.JSONDecodeError and simplejson.JSONDecodeError\u001b[39;00m\n",
      "File \u001b[1;32mc:\\Users\\Eda\\.conda\\envs\\projectT\\Lib\\json\\__init__.py:346\u001b[0m, in \u001b[0;36mloads\u001b[1;34m(s, cls, object_hook, parse_float, parse_int, parse_constant, object_pairs_hook, **kw)\u001b[0m\n\u001b[0;32m    343\u001b[0m \u001b[39mif\u001b[39;00m (\u001b[39mcls\u001b[39m \u001b[39mis\u001b[39;00m \u001b[39mNone\u001b[39;00m \u001b[39mand\u001b[39;00m object_hook \u001b[39mis\u001b[39;00m \u001b[39mNone\u001b[39;00m \u001b[39mand\u001b[39;00m\n\u001b[0;32m    344\u001b[0m         parse_int \u001b[39mis\u001b[39;00m \u001b[39mNone\u001b[39;00m \u001b[39mand\u001b[39;00m parse_float \u001b[39mis\u001b[39;00m \u001b[39mNone\u001b[39;00m \u001b[39mand\u001b[39;00m\n\u001b[0;32m    345\u001b[0m         parse_constant \u001b[39mis\u001b[39;00m \u001b[39mNone\u001b[39;00m \u001b[39mand\u001b[39;00m object_pairs_hook \u001b[39mis\u001b[39;00m \u001b[39mNone\u001b[39;00m \u001b[39mand\u001b[39;00m \u001b[39mnot\u001b[39;00m kw):\n\u001b[1;32m--> 346\u001b[0m     \u001b[39mreturn\u001b[39;00m _default_decoder\u001b[39m.\u001b[39;49mdecode(s)\n\u001b[0;32m    347\u001b[0m \u001b[39mif\u001b[39;00m \u001b[39mcls\u001b[39m \u001b[39mis\u001b[39;00m \u001b[39mNone\u001b[39;00m:\n",
      "File \u001b[1;32mc:\\Users\\Eda\\.conda\\envs\\projectT\\Lib\\json\\decoder.py:337\u001b[0m, in \u001b[0;36mJSONDecoder.decode\u001b[1;34m(self, s, _w)\u001b[0m\n\u001b[0;32m    333\u001b[0m \u001b[39m\u001b[39m\u001b[39m\"\"\"Return the Python representation of ``s`` (a ``str`` instance\u001b[39;00m\n\u001b[0;32m    334\u001b[0m \u001b[39mcontaining a JSON document).\u001b[39;00m\n\u001b[0;32m    335\u001b[0m \n\u001b[0;32m    336\u001b[0m \u001b[39m\"\"\"\u001b[39;00m\n\u001b[1;32m--> 337\u001b[0m obj, end \u001b[39m=\u001b[39m \u001b[39mself\u001b[39;49m\u001b[39m.\u001b[39;49mraw_decode(s, idx\u001b[39m=\u001b[39;49m_w(s, \u001b[39m0\u001b[39;49m)\u001b[39m.\u001b[39;49mend())\n\u001b[0;32m    338\u001b[0m end \u001b[39m=\u001b[39m _w(s, end)\u001b[39m.\u001b[39mend()\n",
      "File \u001b[1;32mc:\\Users\\Eda\\.conda\\envs\\projectT\\Lib\\json\\decoder.py:355\u001b[0m, in \u001b[0;36mJSONDecoder.raw_decode\u001b[1;34m(self, s, idx)\u001b[0m\n\u001b[0;32m    354\u001b[0m \u001b[39mexcept\u001b[39;00m \u001b[39mStopIteration\u001b[39;00m \u001b[39mas\u001b[39;00m err:\n\u001b[1;32m--> 355\u001b[0m     \u001b[39mraise\u001b[39;00m JSONDecodeError(\u001b[39m\"\u001b[39m\u001b[39mExpecting value\u001b[39m\u001b[39m\"\u001b[39m, s, err\u001b[39m.\u001b[39mvalue) \u001b[39mfrom\u001b[39;00m \u001b[39mNone\u001b[39m\n\u001b[0;32m    356\u001b[0m \u001b[39mreturn\u001b[39;00m obj, end\n",
      "\u001b[1;31mJSONDecodeError\u001b[0m: Expecting value: line 1 column 1 (char 0)",
      "\nDuring handling of the above exception, another exception occurred:\n",
      "\u001b[1;31mJSONDecodeError\u001b[0m                           Traceback (most recent call last)",
      "Cell \u001b[1;32mIn[42], line 66\u001b[0m\n\u001b[0;32m     64\u001b[0m \u001b[39m# Send the request and parse the JSON response\u001b[39;00m\n\u001b[0;32m     65\u001b[0m response \u001b[39m=\u001b[39m requests\u001b[39m.\u001b[39mget(url)\n\u001b[1;32m---> 66\u001b[0m data \u001b[39m=\u001b[39m response\u001b[39m.\u001b[39;49mjson()\n\u001b[0;32m     67\u001b[0m \u001b[39mprint\u001b[39m(response)\n\u001b[0;32m     69\u001b[0m \u001b[39m# Extract the \"properties\" field from the response\u001b[39;00m\n",
      "File \u001b[1;32mc:\\Users\\Eda\\.conda\\envs\\projectT\\Lib\\site-packages\\requests\\models.py:975\u001b[0m, in \u001b[0;36mResponse.json\u001b[1;34m(self, **kwargs)\u001b[0m\n\u001b[0;32m    971\u001b[0m     \u001b[39mreturn\u001b[39;00m complexjson\u001b[39m.\u001b[39mloads(\u001b[39mself\u001b[39m\u001b[39m.\u001b[39mtext, \u001b[39m*\u001b[39m\u001b[39m*\u001b[39mkwargs)\n\u001b[0;32m    972\u001b[0m \u001b[39mexcept\u001b[39;00m JSONDecodeError \u001b[39mas\u001b[39;00m e:\n\u001b[0;32m    973\u001b[0m     \u001b[39m# Catch JSON-related errors and raise as requests.JSONDecodeError\u001b[39;00m\n\u001b[0;32m    974\u001b[0m     \u001b[39m# This aliases json.JSONDecodeError and simplejson.JSONDecodeError\u001b[39;00m\n\u001b[1;32m--> 975\u001b[0m     \u001b[39mraise\u001b[39;00m RequestsJSONDecodeError(e\u001b[39m.\u001b[39mmsg, e\u001b[39m.\u001b[39mdoc, e\u001b[39m.\u001b[39mpos)\n",
      "\u001b[1;31mJSONDecodeError\u001b[0m: Expecting value: line 1 column 1 (char 0)"
     ]
    }
   ],
   "source": [
    "import requests\n",
    "import pyproj\n",
    "\n",
    "# Define the EPSG codes for the source and destination coordinate systems\n",
    "src_crs = 'EPSG:4326'\n",
    "dst_crs = 'EPSG:28992'\n",
    "\n",
    "# Define longitude and latitude \n",
    "x = 4.344998\n",
    "y = 51.983957\n",
    "\n",
    "x1 = x + 0.0001\n",
    "y1 = y + 0.0001\n",
    "\n",
    "# Define the bounding box in EPSG:4326 (WGS84) coordinates as [min_lon, min_lat, max_lon, max_lat]\n",
    "bbox = [x, y, x1, y1]  # Amsterdam area\n",
    "\n",
    "# Create a PyProj transformer object\n",
    "transformer = pyproj.transformer.Transformer.from_crs(src_crs, dst_crs)\n",
    "\n",
    "# Transform the bounding box coordinates\n",
    "min_x, min_y = transformer.transform(bbox[0], bbox[1])\n",
    "max_x, max_y = transformer.transform(bbox[2], bbox[3])\n",
    "\n",
    "# Create the transformed bounding box as [min_x, min_y, max_x, max_y]\n",
    "transformed_bbox = [min_x, min_y, max_x, max_y]\n",
    "transformed_bbox_string = ', '.join(str(x) for x in transformed_bbox)\n",
    "transformed_bbox_string = '\"' + transformed_bbox_string + '\"'\n",
    "print(transformed_bbox_string)\n",
    "\n",
    "# bboxtest = [162798.4279118476,475504.2679470302,162881.63415054162,475587.4741857242]\n",
    "# bboxtest = ', '.join(str(x) for x in bboxtest)\n",
    "\n",
    "# Checks\n",
    "# print(f'Original bounding box: {bbox}')\n",
    "# print(f'Transformed bounding box: {transformed_bbox}')\n",
    "\n",
    "# Define variables\n",
    "base_url = \"https://apps.geodan.nl/public/data/org/gws/YWFMLMWERURF/kea_public/wms?v1_0\"\n",
    "service = \"WMS\"\n",
    "version = \"1.3.0\"\n",
    "request_type = \"GetFeatureInfo\"\n",
    "format_type = \"image/png\"\n",
    "transparent = \"true\"\n",
    "query_layers = \"bodemdaling_2020_2050hoog\"\n",
    "layers = \"bodemdaling_2020_2050hoog\"\n",
    "info_format = \"application/json\"\n",
    "feature_count = \"8\"\n",
    "i = \"50\"\n",
    "j = \"50\"\n",
    "crs = \"EPSG:28992\"\n",
    "styles = \"\"\n",
    "width = \"101\"\n",
    "height = \"101\"\n",
    "# bbox = \"162798.4279118476,475504.2679470302,162881.63415054162,475587.4741857242\"\n",
    "bbox = transformed_bbox_string\n",
    "x = x\n",
    "y = y\n",
    "\n",
    "# Construct the URL using string formatting\n",
    "url = f\"{base_url}?SERVICE={service}&VERSION={version}&REQUEST={request_type}&FORMAT={format_type}&TRANSPARENT={transparent}&QUERY_LAYERS={query_layers}&layers={layers}&INFO_FORMAT={info_format}&FEATURE_COUNT={feature_count}&I={i}&J={j}&CRS={crs}&STYLES={styles}&WIDTH={width}&HEIGHT={height}&BBOX={bbox}&x={x}&y={y}\"\n",
    "print(url)\n",
    "# Send the request and parse the JSON response\n",
    "response = requests.get(url)\n",
    "data = response.json()\n",
    "print(response)\n",
    "\n",
    "# Extract the \"properties\" field from the response\n",
    "properties = data[\"features\"][0][\"properties\"]\n",
    "\n",
    "# Print the \"properties\" field\n",
    "print(properties)\n"
   ]
  },
  {
   "cell_type": "code",
   "execution_count": 26,
   "metadata": {},
   "outputs": [
    {
     "name": "stdout",
     "output_type": "stream",
     "text": [
      "6405997.303718974, -3644156.393298886, 6406004.298601689, -3644136.5339814536\n"
     ]
    }
   ],
   "source": [
    "\n",
    "list = [min_x, min_y, max_x, max_y]\n",
    "\n",
    "string = ', '.join(str(x) for x in list)\n",
    "print(string)"
   ]
  },
  {
   "cell_type": "code",
   "execution_count": 48,
   "metadata": {},
   "outputs": [
    {
     "name": "stdout",
     "output_type": "stream",
     "text": [
      "\"51.983957, 4.344998, 51.984057, 4.345098\"\n",
      "https://apps.geodan.nl/public/data/org/gws/YWFMLMWERURF/kea_public/wms?v1_0?SERVICE=WMS&VERSION=1.3.0&REQUEST=GetFeatureInfo&FORMAT=image/png&TRANSPARENT=true&QUERY_LAYERS=bodemdaling_2020_2050hoog&layers=bodemdaling_2020_2050hoog&INFO_FORMAT=application/json&FEATURE_COUNT=8&I=50&J=50&CRS=EPSG:4326&STYLES=&WIDTH=101&HEIGHT=101&BBOX=4.344998, 51.983957, 4.345098, 51.984057&x=4.344998&y=51.983957\n",
      "<Response [200]>\n"
     ]
    },
    {
     "ename": "IndexError",
     "evalue": "list index out of range",
     "output_type": "error",
     "traceback": [
      "\u001b[1;31m---------------------------------------------------------------------------\u001b[0m",
      "\u001b[1;31mIndexError\u001b[0m                                Traceback (most recent call last)",
      "Cell \u001b[1;32mIn[48], line 60\u001b[0m\n\u001b[0;32m     57\u001b[0m \u001b[39mprint\u001b[39m(response)\n\u001b[0;32m     59\u001b[0m \u001b[39m# Extract the \"properties\" field from the response\u001b[39;00m\n\u001b[1;32m---> 60\u001b[0m properties \u001b[39m=\u001b[39m data[\u001b[39m\"\u001b[39;49m\u001b[39mfeatures\u001b[39;49m\u001b[39m\"\u001b[39;49m][\u001b[39m0\u001b[39;49m][\u001b[39m\"\u001b[39m\u001b[39mproperties\u001b[39m\u001b[39m\"\u001b[39m]\n\u001b[0;32m     62\u001b[0m \u001b[39m# Print the \"properties\" field\u001b[39;00m\n\u001b[0;32m     63\u001b[0m \u001b[39mprint\u001b[39m(properties)\n",
      "\u001b[1;31mIndexError\u001b[0m: list index out of range"
     ]
    }
   ],
   "source": [
    "import requests\n",
    "import pyproj\n",
    "\n",
    "# Define the EPSG codes for the source and destination coordinate systems\n",
    "src_crs = 'EPSG:4326'\n",
    "dst_crs = 'EPSG:28992'\n",
    "\n",
    "# Define longitude and latitude \n",
    "x = 4.344998\n",
    "y = 51.983957\n",
    "\n",
    "x1 = x + 0.0001\n",
    "y1 = y + 0.0001\n",
    "\n",
    "# Define the bounding box in EPSG:4326 (WGS84) coordinates as [min_lon, min_lat, max_lon, max_lat]\n",
    "bbox = [y, x, y1, x1]  \n",
    "transformed_bbox_string = ', '.join(str(x) for x in bbox)\n",
    "transformed_bbox_string = '\"' + transformed_bbox_string + '\"'\n",
    "print(transformed_bbox_string)\n",
    "transformed_bbox_string = \"52.0025,4.3794,52.0075,4.3844\"\n",
    "\n",
    "# bboxtest = [162798.4279118476,475504.2679470302,162881.63415054162,475587.4741857242]\n",
    "# bboxtest = ', '.join(str(x) for x in bboxtest)\n",
    "\n",
    "# Checks\n",
    "# print(f'Original bounding box: {bbox}')\n",
    "# print(f'Transformed bounding box: {transformed_bbox}')\n",
    "\n",
    "# Define variables\n",
    "base_url = \"https://apps.geodan.nl/public/data/org/gws/YWFMLMWERURF/kea_public/wms?v1_0\"\n",
    "service = \"WMS\"\n",
    "version = \"1.3.0\"\n",
    "request_type = \"GetFeatureInfo\"\n",
    "format_type = \"image/png\"\n",
    "transparent = \"true\"\n",
    "query_layers = \"bodemdaling_2020_2050hoog\"\n",
    "layers = \"bodemdaling_2020_2050hoog\"\n",
    "info_format = \"application/json\"\n",
    "feature_count = \"8\"\n",
    "i = \"50\"\n",
    "j = \"50\"\n",
    "crs = \"EPSG:4326\"\n",
    "styles = \"\"\n",
    "width = \"101\"\n",
    "height = \"101\"\n",
    "# bbox = \"162798.4279118476,475504.2679470302,162881.63415054162,475587.4741857242\"\n",
    "bbox = \"4.344998, 51.983957, 4.345098, 51.984057\"\n",
    "x = x\n",
    "y = y\n",
    "\n",
    "# Construct the URL using string formatting\n",
    "url = f\"{base_url}?SERVICE={service}&VERSION={version}&REQUEST={request_type}&FORMAT={format_type}&TRANSPARENT={transparent}&QUERY_LAYERS={query_layers}&layers={layers}&INFO_FORMAT={info_format}&FEATURE_COUNT={feature_count}&I={i}&J={j}&CRS={crs}&STYLES={styles}&WIDTH={width}&HEIGHT={height}&BBOX={bbox}&x={x}&y={y}\"\n",
    "print(url)\n",
    "# Send the request and parse the JSON response\n",
    "response = requests.get(url)\n",
    "data = response.json()\n",
    "print(response)\n",
    "\n",
    "# Extract the \"properties\" field from the response\n",
    "properties = data[\"features\"][0][\"properties\"]\n",
    "\n",
    "# Print the \"properties\" field\n",
    "print(properties)"
   ]
  },
  {
   "cell_type": "code",
   "execution_count": 54,
   "metadata": {},
   "outputs": [
    {
     "name": "stdout",
     "output_type": "stream",
     "text": [
      "https://apps.geodan.nl/public/data/org/gws/YWFMLMWERURF/kea_public/wms?v1_0&SERVICE=WMS&VERSION=1.3.0&REQUEST=GetFeatureInfo&FORMAT=image/png&TRANSPARENT=true&QUERY_LAYERS=bodemdaling_2020_2050hoog&LAYERS=bodemdaling_2020_2050hoog&INFO_FORMAT=application/json&FEATURE_COUNT=8&I=50&J=50&CRS=EPSG:4326&STYLES=&WIDTH=101&HEIGHT=101&BBOX=51.873622,4.119859,51.873722,4.119959&x=4.119859&y=51.873622\n",
      "{'GRAY_INDEX': 0.03867279763858893}\n"
     ]
    }
   ],
   "source": [
    "import requests\n",
    "\n",
    "# Define the bounding box in EPSG:4326 (WGS84) coordinates as [min_lon, min_lat, max_lon, max_lat]\n",
    "# x = 5.468132\n",
    "# y = 52.547327\n",
    "x = 4.119859\n",
    "y = 51.873622\n",
    "x1 = x + 0.0001\n",
    "y1 = y + 0.0001\n",
    "bbox = [y, x, y1, x1]\n",
    "\n",
    "# Convert the bbox list to a string\n",
    "bbox_str = ','.join(str(coord) for coord in bbox)\n",
    "\n",
    "# Define the URL parameters\n",
    "params = {\n",
    "    \"SERVICE\": \"WMS\",\n",
    "    \"VERSION\": \"1.3.0\",\n",
    "    \"REQUEST\": \"GetFeatureInfo\",\n",
    "    \"FORMAT\": \"image/png\",\n",
    "    \"TRANSPARENT\": \"true\",\n",
    "    \"QUERY_LAYERS\": \"bodemdaling_2020_2050hoog\",\n",
    "    \"LAYERS\": \"bodemdaling_2020_2050hoog\",\n",
    "    \"INFO_FORMAT\": \"application/json\",\n",
    "    \"FEATURE_COUNT\": \"8\",\n",
    "    \"I\": \"50\",\n",
    "    \"J\": \"50\",\n",
    "    \"CRS\": \"EPSG:4326\",\n",
    "    \"STYLES\": \"\",\n",
    "    \"WIDTH\": \"101\",\n",
    "    \"HEIGHT\": \"101\",\n",
    "    \"BBOX\": bbox_str,\n",
    "    \"x\": x,\n",
    "    \"y\": y,\n",
    "}\n",
    "\n",
    "# Construct the URL using string formatting\n",
    "url = \"https://apps.geodan.nl/public/data/org/gws/YWFMLMWERURF/kea_public/wms?v1_0&\" + \"&\".join(f\"{k}={v}\" for k, v in params.items())\n",
    "print(url)\n",
    "# Send the request and parse the JSON response\n",
    "response = requests.get(url)\n",
    "data = response.json()\n",
    "\n",
    "# Extract the \"properties\" field from the response\n",
    "properties = data[\"features\"][0][\"properties\"]\n",
    "\n",
    "# Print the \"properties\" field\n",
    "print(properties)\n"
   ]
  },
  {
   "cell_type": "code",
   "execution_count": null,
   "metadata": {},
   "outputs": [],
   "source": []
  }
 ],
 "metadata": {
  "kernelspec": {
   "display_name": "projectT",
   "language": "python",
   "name": "python3"
  },
  "language_info": {
   "codemirror_mode": {
    "name": "ipython",
    "version": 3
   },
   "file_extension": ".py",
   "mimetype": "text/x-python",
   "name": "python",
   "nbconvert_exporter": "python",
   "pygments_lexer": "ipython3",
   "version": "3.11.0"
  },
  "orig_nbformat": 4
 },
 "nbformat": 4,
 "nbformat_minor": 2
}
