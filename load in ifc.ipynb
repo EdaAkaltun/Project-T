{
 "cells": [
  {
   "cell_type": "code",
   "execution_count": null,
   "metadata": {},
   "outputs": [],
   "source": [
    "# https://github.com/buildingSMART/Sample-Test-Files/tree/master/IFC%202x3/Schependomlaan"
   ]
  },
  {
   "cell_type": "code",
   "execution_count": 1,
   "metadata": {},
   "outputs": [
    {
     "ename": "AttributeError",
     "evalue": "entity instance of type 'IFC2X3.IfcColumn' has no attribute 'RelatingMaterial'",
     "output_type": "error",
     "traceback": [
      "\u001b[1;31m---------------------------------------------------------------------------\u001b[0m",
      "\u001b[1;31mAttributeError\u001b[0m                            Traceback (most recent call last)",
      "Cell \u001b[1;32mIn[1], line 15\u001b[0m\n\u001b[0;32m     12\u001b[0m \u001b[39melse\u001b[39;00m:\n\u001b[0;32m     13\u001b[0m     \u001b[39m# Iterate over all columns and get their material\u001b[39;00m\n\u001b[0;32m     14\u001b[0m     \u001b[39mfor\u001b[39;00m column \u001b[39min\u001b[39;00m columns:\n\u001b[1;32m---> 15\u001b[0m         material \u001b[39m=\u001b[39m column\u001b[39m.\u001b[39;49mRelatingMaterial\u001b[39m.\u001b[39mName\n\u001b[0;32m     16\u001b[0m         \u001b[39mprint\u001b[39m(\u001b[39mf\u001b[39m\u001b[39m\"\u001b[39m\u001b[39mThe column \u001b[39m\u001b[39m{\u001b[39;00mcolumn\u001b[39m.\u001b[39mName\u001b[39m}\u001b[39;00m\u001b[39m is made of \u001b[39m\u001b[39m{\u001b[39;00mmaterial\u001b[39m}\u001b[39;00m\u001b[39m.\u001b[39m\u001b[39m\"\u001b[39m)\n",
      "File \u001b[1;32mc:\\Users\\eakal\\anaconda3\\envs\\py10\\lib\\site-packages\\ifcopenshell\\entity_instance.py:173\u001b[0m, in \u001b[0;36mentity_instance.__getattr__\u001b[1;34m(self, name)\u001b[0m\n\u001b[0;32m    170\u001b[0m         \u001b[39mreturn\u001b[39;00m fn(\u001b[39mself\u001b[39m)\n\u001b[0;32m    172\u001b[0m \u001b[39mif\u001b[39;00m attr_cat \u001b[39m!=\u001b[39m FORWARD:\n\u001b[1;32m--> 173\u001b[0m     \u001b[39mraise\u001b[39;00m \u001b[39mAttributeError\u001b[39;00m(\n\u001b[0;32m    174\u001b[0m         \u001b[39m\"\u001b[39m\u001b[39mentity instance of type \u001b[39m\u001b[39m'\u001b[39m\u001b[39m%s\u001b[39;00m\u001b[39m'\u001b[39m\u001b[39m has no attribute \u001b[39m\u001b[39m'\u001b[39m\u001b[39m%s\u001b[39;00m\u001b[39m'\u001b[39m\u001b[39m\"\u001b[39m\n\u001b[0;32m    175\u001b[0m         \u001b[39m%\u001b[39m (\u001b[39mself\u001b[39m\u001b[39m.\u001b[39mwrapped_data\u001b[39m.\u001b[39mis_a(\u001b[39mTrue\u001b[39;00m), name)\n\u001b[0;32m    176\u001b[0m     )\n",
      "\u001b[1;31mAttributeError\u001b[0m: entity instance of type 'IFC2X3.IfcColumn' has no attribute 'RelatingMaterial'"
     ]
    }
   ],
   "source": [
    "import ifcopenshell\n",
    "\n",
    "# Load IFC file\n",
    "ifc_file = ifcopenshell.open('IFC Schependomlaan.ifc')\n",
    "\n",
    "# Get all objects of type IfcColumn\n",
    "columns = ifc_file.by_type('IfcColumn')\n",
    "\n",
    "# Check if there are any columns in the model\n",
    "if not columns:\n",
    "    print(\"The model has no columns.\")\n",
    "else:\n",
    "    # Iterate over all columns and get their material\n",
    "    for column in columns:\n",
    "        material = column.RelatingMaterial.Name\n",
    "        print(f\"The column {column.Name} is made of {material}.\")\n"
   ]
  },
  {
   "cell_type": "code",
   "execution_count": null,
   "metadata": {},
   "outputs": [],
   "source": []
  }
 ],
 "metadata": {
  "kernelspec": {
   "display_name": "py10",
   "language": "python",
   "name": "python3"
  },
  "language_info": {
   "codemirror_mode": {
    "name": "ipython",
    "version": 3
   },
   "file_extension": ".py",
   "mimetype": "text/x-python",
   "name": "python",
   "nbconvert_exporter": "python",
   "pygments_lexer": "ipython3",
   "version": "3.10.9"
  },
  "orig_nbformat": 4
 },
 "nbformat": 4,
 "nbformat_minor": 2
}
