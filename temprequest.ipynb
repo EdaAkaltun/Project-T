{
 "cells": [
  {
   "cell_type": "code",
   "execution_count": null,
   "metadata": {},
   "outputs": [],
   "source": [
    "api_key = 'f1e40a460e683ace1c891efb88eac570'"
   ]
  },
  {
   "cell_type": "code",
   "execution_count": 13,
   "metadata": {},
   "outputs": [
    {
     "name": "stdout",
     "output_type": "stream",
     "text": [
      "b'{\"cod\":401, \"message\": \"Invalid API key. Please see http://openweathermap.org/faq#error401 for more info.\"}'\n"
     ]
    }
   ],
   "source": [
    "import requests\n",
    "\n",
    "# Set up the parameters for the API request\n",
    "lat = 40.7128\n",
    "lon = -74.0060\n",
    "start = 1616284800  # March 21, 2021, 00:00:00 UTC\n",
    "end = 1616371200  # March 22, 2021, 00:00:00 UTC\n",
    "api_key = 'f1e40a460e683ace1c891efb88eac570'\n",
    "\n",
    "# Set up the URL for the API request\n",
    "url = f\"https://history.openweathermap.org/data/2.5/history/city?lat={lat}&lon={lon}&type=hour&start={start}&end={end}&appid={api_key}\"\n",
    "\n",
    "# Send the API request\n",
    "response = requests.get(url)\n",
    "\n",
    "# Print the response content\n",
    "print(response.content)\n"
   ]
  },
  {
   "cell_type": "code",
   "execution_count": null,
   "metadata": {},
   "outputs": [],
   "source": []
  }
 ],
 "metadata": {
  "kernelspec": {
   "display_name": "py10",
   "language": "python",
   "name": "python3"
  },
  "language_info": {
   "codemirror_mode": {
    "name": "ipython",
    "version": 3
   },
   "file_extension": ".py",
   "mimetype": "text/x-python",
   "name": "python",
   "nbconvert_exporter": "python",
   "pygments_lexer": "ipython3",
   "version": "3.10.9"
  },
  "orig_nbformat": 4
 },
 "nbformat": 4,
 "nbformat_minor": 2
}
