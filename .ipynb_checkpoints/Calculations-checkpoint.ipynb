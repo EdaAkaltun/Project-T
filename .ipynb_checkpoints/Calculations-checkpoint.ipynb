{
 "cells": [
  {
   "cell_type": "code",
   "execution_count": 3,
   "metadata": {},
   "outputs": [],
   "source": [
    "import os\n",
    "\n",
    "def getToken(username, password, serverName, serverPort):\n",
    "    # Token URL is typically http://server[:port]/arcgis/admin/generateToken\n",
    "    tokenURL = \"/arcgis/admin/generateToken\"\n",
    "    \n",
    "    # URL-encode the token parameters:-\n",
    "    params = urllib.urlencode({'username': username, 'password': password, 'client': 'requestip', 'f': 'json'})\n",
    "    \n",
    "    headers = {\"Content-type\": \"application/x-www-form-urlencoded\", \"Accept\": \"text/plain\"}\n",
    "    \n",
    "    # Connect to URL and post parameters\n",
    "    httpConn = httplib.HTTPConnection(serverName, serverPort)\n",
    "    httpConn.request(\"POST\", tokenURL, params, headers)\n",
    "    \n",
    "    # Read response\n",
    "    response = httpConn.getresponse()\n",
    "    if (response.status != 200):\n",
    "        httpConn.close()\n",
    "        print(\"Error while fetch tokens from admin URL. Please check the URL and try again.\")\n",
    "        return\n",
    "    else:\n",
    "        data = response.read()\n",
    "        httpConn.close()\n",
    "           \n",
    "        # Extract the token from it\n",
    "        token = json.loads(data)        \n",
    "        return token['token']\n"
   ]
  },
  {
   "cell_type": "code",
   "execution_count": 6,
   "metadata": {},
   "outputs": [
    {
     "name": "stdout",
     "output_type": "stream",
     "text": [
      "0.9878400000000002\n"
     ]
    }
   ],
   "source": [
    "# Formula from: https://structx.com/Stress_Strain_012.html\n",
    "\n",
    "# ∆T = change in temperature, ᵒK or ᵒC\n",
    "averagetemp = 12 # C\n",
    "newmaxtemp = 40 # C\n",
    "DeltaT = newmaxtemp - averagetemp \n",
    "\n",
    "# α = coefficient of thermal expansion, ᵒK-1 or ᵒC-1\n",
    "material = \"concrete\"\n",
    "match material:\n",
    "# Source for coefficients: https://www.engineeringtoolbox.com/linear-expansion-coefficients-d_95.html\n",
    "    case \"concrete\":\n",
    "        thermalexpension = 9.8 * 10**-6 # concrete\n",
    "    case \"wood\":\n",
    "        thermalexpension = 30 * 10**-6 # wood perpendicular to grain\n",
    "    case \"steel\":\n",
    "        thermalexpension = 12.5 * 10**-6 # steel\n",
    "\n",
    "# L = length under consideration, in or mm\n",
    "L = 3600 # mm\n",
    "\n",
    "# ∆L = change in length, in or mm\n",
    "DeltaL = thermalexpension * DeltaT * L\n",
    "\n",
    "print(DeltaL)"
   ]
  },
  {
   "cell_type": "code",
   "execution_count": 2,
   "metadata": {},
   "outputs": [],
   "source": [
    "\n",
    "\n",
    "# t = duration of impact in seconds\n",
    "material = \"concrete\"\n",
    "match material:\n",
    "# City of Honolulu building code for impact durations\n",
    "    case \"concrete\":\n",
    "        impacttime = 0.1 # second\n",
    "    case \"wood\":\n",
    "        impacttime = 1 # second \n",
    "    case \"steel\":\n",
    "        impacttime = 0.5 # second\n",
    "\n",
    "# Fi = impact force in lb acting at the stillwater level\n",
    "# w = weight of the object in lb\n",
    "# V = velocity of water in ft/sec or approximated by 1/2(gds)1/2\n",
    "# g = gravitational constant (32.2 ft/sec2)\n"
   ]
  }
 ],
 "metadata": {
  "kernelspec": {
   "display_name": "Python 3 (ipykernel)",
   "language": "python",
   "name": "python3"
  },
  "language_info": {
   "codemirror_mode": {
    "name": "ipython",
    "version": 3
   },
   "file_extension": ".py",
   "mimetype": "text/x-python",
   "name": "python",
   "nbconvert_exporter": "python",
   "pygments_lexer": "ipython3",
   "version": "3.9.13"
  },
  "vscode": {
   "interpreter": {
    "hash": "171d1701766257c6a7e071f1c10cccca6ca92b5ac53316f94a70ab894557a8ee"
   }
  }
 },
 "nbformat": 4,
 "nbformat_minor": 2
}
