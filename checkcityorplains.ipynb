{
 "cells": [
  {
   "cell_type": "code",
   "execution_count": 4,
   "metadata": {},
   "outputs": [
    {
     "name": "stdout",
     "output_type": "stream",
     "text": [
      "The coordinates are in the city of Delft\n"
     ]
    }
   ],
   "source": [
    "import requests\n",
    "import json\n",
    "\n",
    "# Define the coordinate to check\n",
    "lat = 52.006251\n",
    "lon = 4.356806\n",
    "\n",
    "# Build the OSM API query URL\n",
    "url = 'https://nominatim.openstreetmap.org/reverse?format=json&lat={}&lon={}&zoom=18&addressdetails=1'.format(lat, lon)\n",
    "\n",
    "# Send a GET request to the API and get the response\n",
    "response = requests.get(url)\n",
    "\n",
    "# Parse the response JSON data\n",
    "data = json.loads(response.content)\n",
    "\n",
    "# Check type\n",
    "if 'city' in data['address']:\n",
    "    print('The coordinates are in the city of', data['address']['city'])\n",
    "    enviroment = \"city\"\n",
    "elif 'village' in data['address']:\n",
    "    print('The coordinates are in the village of', data['address']['village'])\n",
    "    enviroment = \"village\"\n",
    "else:\n",
    "    print('The coordinates are in the plains.')\n",
    "    enviroment = \"plains\"\n",
    "\n",
    "# Debris weight\n",
    "match enviroment:\n",
    "    case \"city\":\n",
    "        DebrisWeight =  1500+454 # car weight and debris suggestion\n",
    "    case \"village\":\n",
    "        DebrisWeight =  655 # tree weight https://www.researchgate.net/figure/Summary-of-tree-heights-weights-and-volumes_tbl1_232354725\n",
    "    case \"plains\":\n",
    "        DebrisWeight =  77 # wood weight\n",
    "\n",
    "def impacttime():\n",
    "    match material:\n",
    "    # City of Honolulu building code for impact durations\n",
    "        case \"concrete\":\n",
    "            impacttime = 0.1 # second\n",
    "        case \"wood\":\n",
    "            impacttime = 1 # second \n",
    "        case \"steel\":\n",
    "            impacttime = 0.5 # second\n",
    "\n",
    "# Debris Impact Load\n",
    "DebrisLoad = (DebrisWeight * Velocity) / (GraviationalConstant * impacttime)"
   ]
  },
  {
   "cell_type": "code",
   "execution_count": null,
   "metadata": {},
   "outputs": [],
   "source": []
  }
 ],
 "metadata": {
  "kernelspec": {
   "display_name": "py10",
   "language": "python",
   "name": "python3"
  },
  "language_info": {
   "codemirror_mode": {
    "name": "ipython",
    "version": 3
   },
   "file_extension": ".py",
   "mimetype": "text/x-python",
   "name": "python",
   "nbconvert_exporter": "python",
   "pygments_lexer": "ipython3",
   "version": "3.10.9"
  },
  "orig_nbformat": 4
 },
 "nbformat": 4,
 "nbformat_minor": 2
}
